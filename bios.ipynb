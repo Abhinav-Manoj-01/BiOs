{
 "cells": [
  {
   "cell_type": "code",
   "execution_count": 8,
   "id": "7bcc01e9",
   "metadata": {},
   "outputs": [
    {
     "name": "stdout",
     "output_type": "stream",
     "text": [
      "Enter a string: ama\n",
      "The string is a palindrome.\n"
     ]
    }
   ],
   "source": [
    "# program to check whether a string is a palindrome.\n",
    "def is_palindrome(s):\n",
    "    s = s.replace(\" \", \"\").lower()\n",
    "    return s == s[::-1]\n",
    "\n",
    "input_str = input(\"Enter a string: \")\n",
    "if is_palindrome(input_str):\n",
    "    print(\"The string is a palindrome.\")\n",
    "else:\n",
    "    print(\"The string is not a palindrome.\")"
   ]
  },
  {
   "cell_type": "code",
   "execution_count": 11,
   "id": "22d0d8fd",
   "metadata": {},
   "outputs": [
    {
     "name": "stdout",
     "output_type": "stream",
     "text": [
      "Enter numbers separated by spaces: 2 4 7 99 0\n",
      "Enter the target XOR value: 1\n",
      "No pairs found with XOR equal to 1\n"
     ]
    }
   ],
   "source": [
    "#a program to find all pairs in a list whose XOR is equal to a given target.\n",
   def xor(l):
    l2=[]
    target=int(input("enter the target:"))
    for i in l:
        for j in l:
            if i^j==target:
                l2.append((i,j))

    print(l2)
xor([1,2,3,4,5,6])
    "#program to reverse only the alphabets in a string without changing the position of special characters.\n",
    "def reverse_alphabets_in_string(s):\n",
    "    s_list = list(s)\n",
    "    alphabets = [char for char in s_list if char.isalpha()]\n",
    "    alphabets.reverse()\n",
    "\n",
    "    for i in range(len(s_list)):\n",
    "        if s_list[i].isalpha():\n",
    "            s_list[i] = alphabets.pop(0)\n",
    "    \n",
    "    return ''.join(s_list)\n",
    "\n",
    "input_string = input(\"Enter a string: \")\n",
    "reversed_string = reverse_alphabets_in_string(input_string)\n",
    "print(\"Reversed string (alphabets only):\", reversed_string)\n"
   ]
  },
  {
   "cell_type": "code",
   "execution_count": 18,
   "id": "2a11aaad",
   "metadata": {},
   "outputs": [
    {
     "name": "stdout",
     "output_type": "stream",
     "text": [
      "Enter the first string: listen\n",
      "Enter the second string: silent\n",
      "The strings are anagrams.\n"
     ]
    }
   ],
   "source": [
    "#Write a function that takes two strings and returns True if they are anagrams of each other, and False otherwise.\n",
    "def are_anagrams(str1, str2):\n",
    "    return sorted(str1) == sorted(str2)\n",
    "\n",
    "str1 = input(\"Enter the first string: \")\n",
    "str2 = input(\"Enter the second string: \")\n",
    "\n",
    "if are_anagrams(str1, str2):\n",
    "    print(\"The strings are anagrams.\")\n",
    "else:\n",
    "    print(\"The strings are not anagrams.\")\n"
   ]
  },
  {
   "cell_type": "code",
   "execution_count": null,
   "id": "6576f1af",
   "metadata": {},
   "outputs": [],
   "source": []
  }
 ],
 "metadata": {
  "kernelspec": {
   "display_name": "Python 3 (ipykernel)",
   "language": "python",
   "name": "python3"
  },
  "language_info": {
   "codemirror_mode": {
    "name": "ipython",
    "version": 3
   },
   "file_extension": ".py",
   "mimetype": "text/x-python",
   "name": "python",
   "nbconvert_exporter": "python",
   "pygments_lexer": "ipython3",
   "version": "3.12.3"
  }
 },
 "nbformat": 4,
 "nbformat_minor": 5
}
